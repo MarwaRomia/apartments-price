{
 "cells": [
  {
   "cell_type": "code",
   "execution_count": 2,
   "metadata": {},
   "outputs": [],
   "source": [
    "import requests\n",
    "from bs4 import BeautifulSoup\n",
    "import csv"
   ]
  },
  {
   "cell_type": "markdown",
   "metadata": {},
   "source": [
    "####  https://www.pararius.com/apartments/amsterdam?ac=1"
   ]
  },
  {
   "cell_type": "markdown",
   "metadata": {},
   "source": [
    "* Scraping from Rental Apartment\n",
    "Imagine you work for rental apartment office Now imagine your manager wants you to find the best price for rental apartment for your new customer . How could you do this with Beautiful Soup?\n",
    "\n"
   ]
  },
  {
   "cell_type": "code",
   "execution_count": 3,
   "metadata": {},
   "outputs": [],
   "source": [
    "url=\"https://www.pararius.com/apartments/amsterdam?ac=1\""
   ]
  },
  {
   "cell_type": "code",
   "execution_count": 4,
   "metadata": {},
   "outputs": [],
   "source": [
    "response=requests.get(url)"
   ]
  },
  {
   "cell_type": "code",
   "execution_count": 5,
   "metadata": {},
   "outputs": [
    {
     "data": {
      "text/plain": [
       "<Response [200]>"
      ]
     },
     "execution_count": 5,
     "metadata": {},
     "output_type": "execute_result"
    }
   ],
   "source": [
    "response"
   ]
  },
  {
   "cell_type": "code",
   "execution_count": 6,
   "metadata": {},
   "outputs": [],
   "source": [
    "response=response.content"
   ]
  },
  {
   "cell_type": "code",
   "execution_count": 7,
   "metadata": {},
   "outputs": [
    {
     "data": {
      "text/plain": [
       "b'<!DOCTYPE html>\\n<html>\\n<head>\\n\\t\\n\\t<script src=\"/cgi-bin/fl/static/fl.min.js?7903971b\" defer></script>\\n\\t\\n\\t<style>\\n\\t@font-face {\\n\\t\\tfont-family: \\'Noto Serif\\';\\n\\t\\tfont-style: normal;\\n\\t\\tfont-weight: 400;\\n\\t\\tsrc: url(\\'https://static.fairlane.cloud/fonts/noto-serif-v21-latin-regular.eot\\'); /* IE9 Compat Modes */\\n\\t\\tsrc: local(\\'\\'),\\n\\t\\t\\turl(\\'https://static.fairlane.cloud/fonts/noto-serif-v21-latin-regular.eot?#iefix\\') format(\\'embedded-opentype\\'), /* IE6-IE8 */\\n\\t\\t\\turl(\\'https://static.fairlane.cloud/fonts/noto-serif-v21-latin-regular.woff2\\') format(\\'woff2\\'), /* Super Modern Browsers */\\n\\t\\t\\turl(\\'https://static.fairlane.cloud/fonts/noto-serif-v21-latin-regular.woff\\') format(\\'woff\\'), /* Modern Browsers */\\n\\t\\t\\turl(\\'https://static.fairlane.cloud/fonts/noto-serif-v21-latin-regular.ttf\\') format(\\'truetype\\'), /* Safari, Android, iOS */\\n\\t\\t\\turl(\\'https://static.fairlane.cloud/fonts/noto-serif-v21-latin-regular.svg#NotoSerif\\') format(\\'svg\\'); /* Legacy iOS */\\n\\t}\\n\\tbody{\\n\\t\\tfont-family: \\'Noto Serif\\', serif;\\n\\t\\tbackground-color: #white;\\n\\t}\\n\\tnoscript {\\n\\t\\tcolor: red;\\n\\t}\\n\\t.text-box{\\n\\t\\tcolor: #black;\\n\\t\\ttext-align: center;\\n\\t\\ttext-decoration: none;\\n\\t\\tdisplay: inline-block;\\n\\t\\tfont-size: 12px;\\n\\t\\tmargin: 4px 2px;\\n\\t\\tcursor: pointer;\\n\\t\\tdisplay: flex;\\n\\t\\tflex-direction: column;\\n\\t\\tjustify-content: center;\\n\\t\\talign-items: center;\\n\\t}\\n\\n\\t.container{\\n\\t\\theight: 100%;\\n\\t\\twidth: 40px;\\n\\t\\tmargin: 20px auto;\\n\\t}\\n\\n\\t.vc {\\n\\t\\tposition: absolute;\\n\\t\\ttop: 50%;\\n\\t\\tleft: 50%;\\n\\t\\t-moz-transform: translateX(-50%) translateY(-50%);\\n\\t\\t-webkit-transform: translateX(-50%) translateY(-50%);\\n\\t\\ttransform: translateX(-50%) translateY(-50%);}\\n\\t.box{\\n\\t\\twidth: 15px;\\n\\t\\theight: 15px;\\n\\t\\tbackground-color: #123356;\\n\\t\\tdisplay: inline-block;\\n\\t\\tanimation: pulse 0.6s ease-in infinite alternate;\\n\\t}\\n\\t.box2, .box3{\\n\\t\\tanimation-delay: 0.6s;\\n\\t}\\n\\n\\t@Keyframes pulse{\\n\\t\\t100%{\\n\\t\\t\\topacity: 0;\\n\\t\\t}\\n\\t}\\n\\t@media only screen and (max-device-width: 480px) {\\n\\t.text-box{\\n\\t\\tfont-size: 20px;\\n\\t}\\n\\tbutton {\\n\\t\\tfont-size: 20px;\\n\\t}\\n\\t</style>\\n\\t<meta http-equiv=\"Cache-control\" content=\"no-cache\">\\n\\t<meta http-equiv=\"cache-control\" content=\"max-age=0\">\\n\\t<meta http-equiv=\"cache-control\" content=\"no-cache\">\\n\\t<meta http-equiv=\"expires\" content=\"-1\">\\n\\t<meta http-equiv=\"expires\" content=\"Tue, 01 Jan 1980 11:00:00 GMT\">\\n\\t<meta http-equiv=\"pragma\" content=\"no-cache\">\\n</head>\\n</style>\\n\\t<body>\\n\\t<div class=\"vc\">\\n\\t\\t<div class=\"text-box\">\\n\\t\\t<img src=\"https://static.fairlane.cloud/FAIRLANE_LOGO_WOORD_DEF.png\" style=\"width:200px;\"></img>\\n\\t\\t<div class=\"container\">\\n\\t\\t\\t<div class=\"box box1\"></div>\\n\\t\\t\\t<div class=\"box box2\"></div>\\n\\t\\t\\t<div class=\"box box3\"></div>\\n\\t\\t\\t<div class=\"box box4\"></div>\\n\\t\\t</div>\\n\\t\\t\\t<noscript>\\n\\t\\t\\t\\t<h1> www.pararius.com requires JavaScript. Please enable JavaScript and refresh this page. </h1>\\n\\t\\t\\t</noscript>\\n\\n\\t\\t\\t<h2>\\n\\t\\t\\tChecking your browser before accessing www.pararius.com.\\n\\t\\t\\t</h2>\\n\\t\\t\\t<h3>\\n\\t\\t\\t\\tThis process is automatic. Your browser will redirect to your requested content shortly.\\n\\t\\t\\t\\tPlease allow up to 5 seconds\\xe2\\x80\\xa6\\n\\t\\t\\t</h3>\\n\\n\\t\\t</div>\\n\\t\\t<noscript>\\n\\t\\t\\t\\t<h1> This page requires JavaScript. Please enable JavaScript and refresh this page. </h1>\\n\\t\\t</noscript>\\n\\t</div>\\n\\t</body>\\n\\t<script>\\n\\tif(!navigator.cookieEnabled) {\\n\\t\\tdocument.getElementsByClassName(\"text-box\")[0].innerHTML += `<h3 style=\\'color: red;\\'> Please enable cookies and refresh this page. </h3>`\\n\\t}\\n\\t</script>\\n</html>\\n'"
      ]
     },
     "execution_count": 7,
     "metadata": {},
     "output_type": "execute_result"
    }
   ],
   "source": [
    "response"
   ]
  },
  {
   "cell_type": "code",
   "execution_count": 8,
   "metadata": {},
   "outputs": [],
   "source": [
    "soup=BeautifulSoup(response,'html.parser')"
   ]
  },
  {
   "cell_type": "code",
   "execution_count": 9,
   "metadata": {},
   "outputs": [
    {
     "data": {
      "text/plain": [
       "<!DOCTYPE html>\n",
       "\n",
       "<html>\n",
       "<head>\n",
       "<script defer=\"\" src=\"/cgi-bin/fl/static/fl.min.js?7903971b\"></script>\n",
       "<style>\n",
       "\t@font-face {\n",
       "\t\tfont-family: 'Noto Serif';\n",
       "\t\tfont-style: normal;\n",
       "\t\tfont-weight: 400;\n",
       "\t\tsrc: url('https://static.fairlane.cloud/fonts/noto-serif-v21-latin-regular.eot'); /* IE9 Compat Modes */\n",
       "\t\tsrc: local(''),\n",
       "\t\t\turl('https://static.fairlane.cloud/fonts/noto-serif-v21-latin-regular.eot?#iefix') format('embedded-opentype'), /* IE6-IE8 */\n",
       "\t\t\turl('https://static.fairlane.cloud/fonts/noto-serif-v21-latin-regular.woff2') format('woff2'), /* Super Modern Browsers */\n",
       "\t\t\turl('https://static.fairlane.cloud/fonts/noto-serif-v21-latin-regular.woff') format('woff'), /* Modern Browsers */\n",
       "\t\t\turl('https://static.fairlane.cloud/fonts/noto-serif-v21-latin-regular.ttf') format('truetype'), /* Safari, Android, iOS */\n",
       "\t\t\turl('https://static.fairlane.cloud/fonts/noto-serif-v21-latin-regular.svg#NotoSerif') format('svg'); /* Legacy iOS */\n",
       "\t}\n",
       "\tbody{\n",
       "\t\tfont-family: 'Noto Serif', serif;\n",
       "\t\tbackground-color: #white;\n",
       "\t}\n",
       "\tnoscript {\n",
       "\t\tcolor: red;\n",
       "\t}\n",
       "\t.text-box{\n",
       "\t\tcolor: #black;\n",
       "\t\ttext-align: center;\n",
       "\t\ttext-decoration: none;\n",
       "\t\tdisplay: inline-block;\n",
       "\t\tfont-size: 12px;\n",
       "\t\tmargin: 4px 2px;\n",
       "\t\tcursor: pointer;\n",
       "\t\tdisplay: flex;\n",
       "\t\tflex-direction: column;\n",
       "\t\tjustify-content: center;\n",
       "\t\talign-items: center;\n",
       "\t}\n",
       "\n",
       "\t.container{\n",
       "\t\theight: 100%;\n",
       "\t\twidth: 40px;\n",
       "\t\tmargin: 20px auto;\n",
       "\t}\n",
       "\n",
       "\t.vc {\n",
       "\t\tposition: absolute;\n",
       "\t\ttop: 50%;\n",
       "\t\tleft: 50%;\n",
       "\t\t-moz-transform: translateX(-50%) translateY(-50%);\n",
       "\t\t-webkit-transform: translateX(-50%) translateY(-50%);\n",
       "\t\ttransform: translateX(-50%) translateY(-50%);}\n",
       "\t.box{\n",
       "\t\twidth: 15px;\n",
       "\t\theight: 15px;\n",
       "\t\tbackground-color: #123356;\n",
       "\t\tdisplay: inline-block;\n",
       "\t\tanimation: pulse 0.6s ease-in infinite alternate;\n",
       "\t}\n",
       "\t.box2, .box3{\n",
       "\t\tanimation-delay: 0.6s;\n",
       "\t}\n",
       "\n",
       "\t@Keyframes pulse{\n",
       "\t\t100%{\n",
       "\t\t\topacity: 0;\n",
       "\t\t}\n",
       "\t}\n",
       "\t@media only screen and (max-device-width: 480px) {\n",
       "\t.text-box{\n",
       "\t\tfont-size: 20px;\n",
       "\t}\n",
       "\tbutton {\n",
       "\t\tfont-size: 20px;\n",
       "\t}\n",
       "\t</style>\n",
       "<meta content=\"no-cache\" http-equiv=\"Cache-control\"/>\n",
       "<meta content=\"max-age=0\" http-equiv=\"cache-control\"/>\n",
       "<meta content=\"no-cache\" http-equiv=\"cache-control\"/>\n",
       "<meta content=\"-1\" http-equiv=\"expires\"/>\n",
       "<meta content=\"Tue, 01 Jan 1980 11:00:00 GMT\" http-equiv=\"expires\"/>\n",
       "<meta content=\"no-cache\" http-equiv=\"pragma\"/>\n",
       "</head>\n",
       "</html>\n",
       "<body>\n",
       "<div class=\"vc\">\n",
       "<div class=\"text-box\">\n",
       "<img src=\"https://static.fairlane.cloud/FAIRLANE_LOGO_WOORD_DEF.png\" style=\"width:200px;\"/>\n",
       "<div class=\"container\">\n",
       "<div class=\"box box1\"></div>\n",
       "<div class=\"box box2\"></div>\n",
       "<div class=\"box box3\"></div>\n",
       "<div class=\"box box4\"></div>\n",
       "</div>\n",
       "<noscript>\n",
       "<h1> www.pararius.com requires JavaScript. Please enable JavaScript and refresh this page. </h1>\n",
       "</noscript>\n",
       "<h2>\n",
       "\t\t\tChecking your browser before accessing www.pararius.com.\n",
       "\t\t\t</h2>\n",
       "<h3>\n",
       "\t\t\t\tThis process is automatic. Your browser will redirect to your requested content shortly.\n",
       "\t\t\t\tPlease allow up to 5 secondsâ€¦\n",
       "\t\t\t</h3>\n",
       "</div>\n",
       "<noscript>\n",
       "<h1> This page requires JavaScript. Please enable JavaScript and refresh this page. </h1>\n",
       "</noscript>\n",
       "</div>\n",
       "</body>\n",
       "<script>\n",
       "\tif(!navigator.cookieEnabled) {\n",
       "\t\tdocument.getElementsByClassName(\"text-box\")[0].innerHTML += `<h3 style='color: red;'> Please enable cookies and refresh this page. </h3>`\n",
       "\t}\n",
       "\t</script>\n"
      ]
     },
     "execution_count": 9,
     "metadata": {},
     "output_type": "execute_result"
    }
   ],
   "source": [
    "soup"
   ]
  },
  {
   "cell_type": "code",
   "execution_count": 38,
   "metadata": {},
   "outputs": [],
   "source": [
    "div_container=soup.find('div',class_='page__row page__row--search-list')\n"
   ]
  },
  {
   "cell_type": "code",
   "execution_count": 39,
   "metadata": {},
   "outputs": [],
   "source": [
    "div_container"
   ]
  },
  {
   "cell_type": "code",
   "execution_count": 35,
   "metadata": {},
   "outputs": [],
   "source": [
    "all_divs=div_container.find_all('li',class_='search-list__item search-list__item--listing')"
   ]
  },
  {
   "cell_type": "code",
   "execution_count": 36,
   "metadata": {},
   "outputs": [
    {
     "data": {
      "text/plain": [
       "[]"
      ]
     },
     "execution_count": 36,
     "metadata": {},
     "output_type": "execute_result"
    }
   ],
   "source": [
    "all_divs"
   ]
  },
  {
   "cell_type": "code",
   "execution_count": null,
   "metadata": {},
   "outputs": [],
   "source": []
  }
 ],
 "metadata": {
  "kernelspec": {
   "display_name": "Python 3",
   "language": "python",
   "name": "python3"
  },
  "language_info": {
   "codemirror_mode": {
    "name": "ipython",
    "version": 3
   },
   "file_extension": ".py",
   "mimetype": "text/x-python",
   "name": "python",
   "nbconvert_exporter": "python",
   "pygments_lexer": "ipython3",
   "version": "3.7.6"
  }
 },
 "nbformat": 4,
 "nbformat_minor": 4
}
